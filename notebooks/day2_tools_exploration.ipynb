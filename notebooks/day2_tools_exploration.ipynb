{
 "cells": [
  {
   "cell_type": "markdown",
   "id": "8a2789ce",
   "metadata": {},
   "source": [
    "# LangChain Tools and Agents Exploration\n",
    "Learn how to create and use LangChain tools, build agents that can choose between multiple tools, and add memory to maintain conversation context."
   ]
  },
  {
   "cell_type": "markdown",
   "id": "840d59df",
   "metadata": {},
   "source": [
    "## Imports and Environment Setup"
   ]
  },
  {
   "cell_type": "code",
   "execution_count": 37,
   "id": "a3bc9bb1",
   "metadata": {},
   "outputs": [
    {
     "data": {
      "text/plain": [
       "True"
      ]
     },
     "execution_count": 37,
     "metadata": {},
     "output_type": "execute_result"
    }
   ],
   "source": [
    "from langchain.agents import initialize_agent, tools, load_tools\n",
    "from langchain.agents.agent_types import AgentType\n",
    "from langchain.memory import ConversationBufferMemory\n",
    "from langchain_groq import ChatGroq\n",
    "from langchain_community.tools import DuckDuckGoSearchResults\n",
    "from langchain_experimental.tools import PythonREPLTool\n",
    "from langchain.tools import tool, Tool\n",
    "\n",
    "import os\n",
    "from dotenv import load_dotenv\n",
    "\n",
    "load_dotenv()"
   ]
  },
  {
   "cell_type": "markdown",
   "id": "066f6be3",
   "metadata": {},
   "source": [
    "## Setting Up Groq LLM and Memory"
   ]
  },
  {
   "cell_type": "code",
   "execution_count": 38,
   "id": "4db03a40",
   "metadata": {},
   "outputs": [],
   "source": [
    "# Setting up LLM\n",
    "llm = ChatGroq(\n",
    "    groq_api_key=groq_api_key,\n",
    "    model_name=\"llama3-70b-8192\",\n",
    "    temperature=0\n",
    ")\n",
    "\n",
    "# Setting up Memory\n",
    "memory = ConversationBufferMemory(\n",
    "    memory_key=\"chat_history\", # Key to match it with the agent\n",
    "    return_messages=True # To see full message objects, not just text\n",
    ")"
   ]
  },
  {
   "cell_type": "markdown",
   "id": "0ddf4aa6",
   "metadata": {},
   "source": [
    "## Setting Up Tools\n",
    "1. DuckDuckGoSearch\n",
    "2. PythonREPL\n",
    "3. Calculator"
   ]
  },
  {
   "cell_type": "code",
   "execution_count": 39,
   "id": "1dee3be2",
   "metadata": {},
   "outputs": [
    {
     "name": "stdout",
     "output_type": "stream",
     "text": [
      "Search tool loaded: duckduckgo_search\n",
      "Python REPL tool loaded: Python_REPL\n"
     ]
    }
   ],
   "source": [
    "# Calculator Tool\n",
    "def calculate(expression: str) -> str:\n",
    "    \"\"\"Calculate mathematical expressions safely\"\"\"\n",
    "    try:\n",
    "        # Replace common math expressions\n",
    "        expression = expression.replace(\"x\", \"*\").replace(\"X\", \"*\")\n",
    "        result = eval(expression)\n",
    "        return f\"The result is: {result}\"\n",
    "    except Exception as e:\n",
    "        return f\"Error in calculation: {str(e)}\"\n",
    "\n",
    "calculator_tool = Tool(\n",
    "    name=\"Calculator\",\n",
    "    description=\"Useful for mathematical calculations. Input should be a mathematical expression like '2+2' or '107000000*0.1'\",\n",
    "    func=calculate\n",
    ")\n",
    "\n",
    "# DuckDuckGo Search Tool\n",
    "search_tool = DuckDuckGoSearchRun()\n",
    "print(f\"Search tool loaded: {search_tool.name}\")\n",
    "\n",
    "# Python REPL Tool\n",
    "python_tool = PythonREPLTool()\n",
    "print(f\"Python REPL tool loaded: {python_tool.name}\")\n",
    "\n"
   ]
  },
  {
   "cell_type": "code",
   "execution_count": 40,
   "id": "b2de7b30",
   "metadata": {},
   "outputs": [
    {
     "name": "stdout",
     "output_type": "stream",
     "text": [
      "All tools loaded successfully:\n",
      "----------------------------------\n",
      "1. Calculator\n",
      "Description: Useful for mathematical calculations. Input should be a mathematical expression like '2+2' or '107000000*0.1'\n",
      "\n",
      "\n",
      "2. duckduckgo_search\n",
      "Description: A wrapper around DuckDuckGo Search. Useful for when you need to answer questions about current events. Input should be a search query.\n",
      "\n",
      "\n",
      "3. Python_REPL\n",
      "Description: A Python shell. Use this to execute python commands. Input should be a valid python command. If you want to see the output of a value, you should print it out with `print(...)`.\n",
      "\n",
      "\n"
     ]
    }
   ],
   "source": [
    "# All tools \n",
    "tools =  [calculator_tool, search_tool, python_tool]\n",
    "\n",
    "\n",
    "print(\"All tools loaded successfully:\\n----------------------------------\")\n",
    "for i, tool in enumerate(tools, 1):\n",
    "    print(f\"{i}. {tool.name}\\nDescription: {tool.description}\\n\")\n",
    "    print()"
   ]
  },
  {
   "cell_type": "markdown",
   "id": "4a1282df",
   "metadata": {},
   "source": [
    "## Initialzing the Agent"
   ]
  },
  {
   "cell_type": "code",
   "execution_count": 41,
   "id": "e1c7fe75",
   "metadata": {},
   "outputs": [],
   "source": [
    "agent = initialize_agent(\n",
    "    tools=tools,\n",
    "    llm=llm,\n",
    "    agent= AgentType.ZERO_SHOT_REACT_DESCRIPTION    ,\n",
    "    memory=memory,\n",
    "    verbose=True\n",
    ")"
   ]
  },
  {
   "cell_type": "markdown",
   "id": "9aafc6c1",
   "metadata": {},
   "source": [
    "## Testing the Agent"
   ]
  },
  {
   "cell_type": "code",
   "execution_count": 42,
   "id": "d7b161d2",
   "metadata": {},
   "outputs": [
    {
     "name": "stdout",
     "output_type": "stream",
     "text": [
      "\n",
      "\n",
      "\u001b[1m> Entering new AgentExecutor chain...\u001b[0m\n",
      "\u001b[32;1m\u001b[1;3mThought: I need to calculate the square root of 256 and then find out who is the current president of France.\n",
      "\n",
      "Action: Calculator\n",
      "Action Input: \"256**0.5\"\u001b[0m\n",
      "Observation: \u001b[36;1m\u001b[1;3mThe result is: 16.0\u001b[0m\n",
      "Thought:\u001b[32;1m\u001b[1;3mI have the square root of 256, which is 16.0. Now I need to find out who is the current president of France.\n",
      "\n",
      "Action: duckduckgo_search\n",
      "Action Input: \"who is the president of France\"\u001b[0m"
     ]
    },
    {
     "name": "stderr",
     "output_type": "stream",
     "text": [
      "d:\\Virtual Enviroments\\langchain-rag-env\\Lib\\site-packages\\langchain_community\\utilities\\duckduckgo_search.py:63: RuntimeWarning: This package (`duckduckgo_search`) has been renamed to `ddgs`! Use `pip install ddgs` instead.\n",
      "  with DDGS() as ddgs:\n"
     ]
    },
    {
     "name": "stdout",
     "output_type": "stream",
     "text": [
      "\n",
      "Observation: \u001b[33;1m\u001b[1;3mchairman, president ， CEO的区别1、职位名称不同。chairman的职位名称翻译成汉语为董事长。president的职位名称翻译成汉族为总经理或总裁。ceo为Chief Executive Officer简称，职位名称翻译成汉语为首席执行官。2 Jul 24, 2024 · VP是什么职务VP，全称为Vice President，是企业中一种重要的高级管理职务。它位于总经理 (General Manager)之下，通常分为第一副总裁 (FVP)、副总裁 (AVP)助理等不同层级。VP的主要职责包括协助CEO，即首席执行官，执行 如果说CEO是总理，那么President就是掌握日常工作的第一副总理，如果这两个职位不属于同一人，那么CEO的地位稍微高一点。 我没有调查CEO和President最早是什么时候分开的，但最早的著名例子发生在1960年代的福特汽车公司。 \"Chairman\" 和 \"President\" 都是职位头衔，但 \"Chairman\" 主要用于组织、公司、委员会等的领导者，其职责是主持和指导会议；而 \"President\" 则更广泛地用于组织、公司、学术机构或国家的领导者，其职责可能包括监督日常运营、制定政策等，特别在政府体系中，\"President\" 是某些国家的国家元首。 大家可以先 ... 此外，有些学校的校长还有另外的称呼：President & Vice-Chancellor或Rector & Vice-Chancellor。 诺丁汉大学的现任Vice Chancellor and President是Shearer West，这位女教授从2017年任执行校长至今，她同时也是诺丁汉马来西亚和宁波分校（宁波大学诺丁汉大学）的校长。\u001b[0m\n",
      "Thought:\u001b[32;1m\u001b[1;3mThought: I have the observation from the duckduckgo_search action, but it seems to be a mix of information about job titles and their differences. I need to extract the relevant information about the current president of France.\n",
      "\n",
      "Action: duckduckgo_search\n",
      "Action Input: \"current president of France\"\u001b[0m"
     ]
    },
    {
     "name": "stderr",
     "output_type": "stream",
     "text": [
      "d:\\Virtual Enviroments\\langchain-rag-env\\Lib\\site-packages\\langchain_community\\utilities\\duckduckgo_search.py:63: RuntimeWarning: This package (`duckduckgo_search`) has been renamed to `ddgs`! Use `pip install ddgs` instead.\n",
      "  with DDGS() as ddgs:\n"
     ]
    },
    {
     "name": "stdout",
     "output_type": "stream",
     "text": [
      "\n",
      "Observation: \u001b[33;1m\u001b[1;3mEmmanuel Jean-Michel Frédéric Macron[b] (born 21 December 1977) is a French politician who has served as President of France and … Mar 27, 2025 · Find out all the news of the President Emmanuel Macron on the official website and discover our pages on the … 6 days ago · Emmanuel Macron is a French banker and politician who was elected president of France in 2017. Macron was the … Emmanuel Jean-Michel Frédéric Macron CBE (French: [emanɥɛl makʁɔ̃]; born 21 December 1977 in Amiens) is a French politician, … Sep 19, 2024 · Find out who the current president of France is, his political career, his actions, and his impact on the country. Stay …\u001b[0m\n",
      "Thought:\u001b[32;1m\u001b[1;3mI have the relevant information about the current president of France.\n",
      "\n",
      "Final Answer: The square root of 256 is 16.0, and the current president of France is Emmanuel Macron.\u001b[0m\n",
      "\n",
      "\u001b[1m> Finished chain.\u001b[0m\n",
      "The square root of 256 is 16.0, and the current president of France is Emmanuel Macron.\n"
     ]
    }
   ],
   "source": [
    "response = agent.run(\"What is the square root of 256? Then tell me who is the president of France.\")\n",
    "print(response)"
   ]
  },
  {
   "cell_type": "markdown",
   "id": "12e77126",
   "metadata": {},
   "source": [
    "## Testing Each Tool Individually"
   ]
  },
  {
   "cell_type": "markdown",
   "id": "1ba6456b",
   "metadata": {},
   "source": [
    "### 1) Calculator"
   ]
  },
  {
   "cell_type": "code",
   "execution_count": 43,
   "id": "f1fb107a",
   "metadata": {},
   "outputs": [
    {
     "name": "stdout",
     "output_type": "stream",
     "text": [
      "\n",
      "\n",
      "\u001b[1m> Entering new AgentExecutor chain...\u001b[0m\n",
      "\u001b[32;1m\u001b[1;3mThought: I need to calculate the square root of 144.\n",
      "\n",
      "Action: Calculator\n",
      "Action Input: \"144**0.5\"\u001b[0m\n",
      "Observation: \u001b[36;1m\u001b[1;3mThe result is: 12.0\u001b[0m\n",
      "Thought:\u001b[32;1m\u001b[1;3mI now know the final answer\n",
      "Final Answer: 12.0\u001b[0m\n",
      "\n",
      "\u001b[1m> Finished chain.\u001b[0m\n",
      "12.0\n"
     ]
    }
   ],
   "source": [
    "response1 = agent.run(\"What is the square root of 144?\")\n",
    "print(response1)"
   ]
  },
  {
   "cell_type": "markdown",
   "id": "3e57236a",
   "metadata": {},
   "source": [
    "### 2) DuckDuckGoSearch"
   ]
  },
  {
   "cell_type": "code",
   "execution_count": 44,
   "id": "48b8fcb4",
   "metadata": {},
   "outputs": [
    {
     "name": "stdout",
     "output_type": "stream",
     "text": [
      "\n",
      "\n",
      "\u001b[1m> Entering new AgentExecutor chain...\u001b[0m\n",
      "\u001b[32;1m\u001b[1;3mThought: I need to find the capital of France, which is a piece of general knowledge. I can use DuckDuckGo search to find the answer.\n",
      "\n",
      "Action: duckduckgo_search\n",
      "Action Input: \"capital of France\"\u001b[0m"
     ]
    },
    {
     "name": "stderr",
     "output_type": "stream",
     "text": [
      "d:\\Virtual Enviroments\\langchain-rag-env\\Lib\\site-packages\\langchain_community\\utilities\\duckduckgo_search.py:63: RuntimeWarning: This package (`duckduckgo_search`) has been renamed to `ddgs`! Use `pip install ddgs` instead.\n",
      "  with DDGS() as ddgs:\n"
     ]
    },
    {
     "name": "stdout",
     "output_type": "stream",
     "text": [
      "\n",
      "Observation: \u001b[33;1m\u001b[1;3mNov 26, 2024 · Answer: Explanation: The capital of France is Paris, and there are no other official capitals. However, there are several other major cities in France that are important, such as: … Dec 19, 2024 · París [pa.'ɾis] (capital of France) Paris ['pa.ɾis] (Hector's brother in The Iliad) *parís [pa.'ɾis] you (familiar plural / classic Spanish \"vos\" formal singular) give birth: vosotras parís ... May 6, 2020 answer of Capital Of France clue in NYT Crossword Puzzle. There is One Answer total, Euros is the most recent and it has 5 letters. Dec 27, 2022 · Answer: Paris is the capital of France, the largest country of Europe with 550 000 km2 (65 millions inhabitants). Paris has 2.234 million inhabitants end 2011. She is the core of … Aug 30, 2023 · The Letter 'N' : London France ^ ^ ------->^The words pants and France do not rhyme because there is a t sound in pants which is not in France. If the word were Frants, it …\u001b[0m\n",
      "Thought:\u001b[32;1m\u001b[1;3mThought: I now know the final answer\n",
      "Final Answer: The capital of France is Paris.\u001b[0m\n",
      "\n",
      "\u001b[1m> Finished chain.\u001b[0m\n",
      "The capital of France is Paris.\n"
     ]
    }
   ],
   "source": [
    "response2 = agent.run(\"What is the capital of France?\")\n",
    "print(response2)"
   ]
  },
  {
   "cell_type": "markdown",
   "id": "554680de",
   "metadata": {},
   "source": [
    "### 3) Python REPL Tool"
   ]
  },
  {
   "cell_type": "code",
   "execution_count": 45,
   "id": "55390683",
   "metadata": {},
   "outputs": [
    {
     "name": "stdout",
     "output_type": "stream",
     "text": [
      "\n",
      "\n",
      "\u001b[1m> Entering new AgentExecutor chain...\u001b[0m\n",
      "\u001b[32;1m\u001b[1;3mThought: I need to write a Python function to generate prime numbers and then use it to create a list of the first 5 prime numbers.\n",
      "\n",
      "Action: Python_REPL\n",
      "Action Input: `def is_prime(n): return n > 1 and all(n%i != 0 for i in range(2, int(n**0.5) + 1))`\n",
      "\u001b[0m\n",
      "Observation: \u001b[38;5;200m\u001b[1;3m\u001b[0m\n",
      "Thought:\u001b[32;1m\u001b[1;3mThought: Now I have a function to check if a number is prime, I need to use it to generate the first 5 prime numbers.\n",
      "\n",
      "Action: Python_REPL\n",
      "Action Input: `primes = []; i = 2; while len(primes) < 5: if is_prime(i): primes.append(i); i += 1; print(primes)`\n",
      "\u001b[0m\n",
      "Observation: \u001b[38;5;200m\u001b[1;3mSyntaxError('invalid syntax', ('<string>', 1, 21, 'primes = []; i = 2; while len(primes) < 5: if is_prime(i): primes.append(i); i += 1; print(primes)\\n', 1, 26))\u001b[0m\n",
      "Thought:\u001b[32;1m\u001b[1;3mIt looks like I made a syntax error!\n",
      "\n",
      "Thought: I need to fix the syntax error in my Python code.\n",
      "\n",
      "Action: Python_REPL\n",
      "Action Input: `primes = []; i = 2; while len(primes) < 5: if is_prime(i): primes.append(i); i += 1; print(primes)` (with proper indentation)\n",
      "\u001b[0m\n",
      "Observation: \u001b[38;5;200m\u001b[1;3mSyntaxError('invalid syntax', ('<string>', 1, 21, 'primes = []; i = 2; while len(primes) < 5: if is_prime(i): primes.append(i); i += 1; print(primes)` (with proper indentation)\\n', 1, 26))\u001b[0m\n",
      "Thought:\u001b[32;1m\u001b[1;3mIt looks like I still have a syntax error!\n",
      "\n",
      "Thought: I need to define the `is_prime` function before using it.\n",
      "\n",
      "Action: Python_REPL\n",
      "Action Input: \n",
      "```\n",
      "def is_prime(n):\n",
      "    return n > 1 and all(n%i != 0 for i in range(2, int(n**0.5) + 1))\n",
      "\n",
      "primes = []\n",
      "i = 2\n",
      "while len(primes) < 5:\n",
      "    if is_prime(i):\n",
      "        primes.append(i)\n",
      "    i += 1\n",
      "print(primes)\n",
      "```\n",
      "\u001b[0m\n",
      "Observation: \u001b[38;5;200m\u001b[1;3m[2, 3, 5, 7, 11]\n",
      "\u001b[0m\n",
      "Thought:\u001b[32;1m\u001b[1;3mI now know the final answer.\n",
      "\n",
      "Final Answer: The Python code to create a list of the first 5 prime numbers is:\n",
      "```\n",
      "def is_prime(n):\n",
      "    return n > 1 and all(n%i != 0 for i in range(2, int(n**0.5) + 1))\n",
      "\n",
      "primes = []\n",
      "i = 2\n",
      "while len(primes) < 5:\n",
      "    if is_prime(i):\n",
      "        primes.append(i)\n",
      "    i += 1\n",
      "print(primes)\n",
      "```\n",
      "And the result is: [2, 3, 5, 7, 11]\u001b[0m\n",
      "\n",
      "\u001b[1m> Finished chain.\u001b[0m\n",
      "The Python code to create a list of the first 5 prime numbers is:\n",
      "```\n",
      "def is_prime(n):\n",
      "    return n > 1 and all(n%i != 0 for i in range(2, int(n**0.5) + 1))\n",
      "\n",
      "primes = []\n",
      "i = 2\n",
      "while len(primes) < 5:\n",
      "    if is_prime(i):\n",
      "        primes.append(i)\n",
      "    i += 1\n",
      "print(primes)\n",
      "```\n",
      "And the result is: [2, 3, 5, 7, 11]\n"
     ]
    }
   ],
   "source": [
    "response3 = response3 = agent.run(\"Write Python code to create a list of the first 5 prime numbers and show the result\")\n",
    "print(response3)"
   ]
  },
  {
   "cell_type": "markdown",
   "id": "29f4d8d7",
   "metadata": {},
   "source": [
    "## Testing Multiple Tools"
   ]
  },
  {
   "cell_type": "code",
   "execution_count": 46,
   "id": "93050bf1",
   "metadata": {},
   "outputs": [
    {
     "name": "stdout",
     "output_type": "stream",
     "text": [
      "\n",
      "\n",
      "\u001b[1m> Entering new AgentExecutor chain...\u001b[0m\n",
      "\u001b[32;1m\u001b[1;3mThought: I need to find the current population of Egypt, and then calculate 10% of that number.\n",
      "\n",
      "Action: duckduckgo_search\n",
      "Action Input: \"population of Egypt\"\u001b[0m"
     ]
    },
    {
     "name": "stderr",
     "output_type": "stream",
     "text": [
      "d:\\Virtual Enviroments\\langchain-rag-env\\Lib\\site-packages\\langchain_community\\utilities\\duckduckgo_search.py:63: RuntimeWarning: This package (`duckduckgo_search`) has been renamed to `ddgs`! Use `pip install ddgs` instead.\n",
      "  with DDGS() as ddgs:\n"
     ]
    },
    {
     "name": "stdout",
     "output_type": "stream",
     "text": [
      "\n",
      "Observation: \u001b[33;1m\u001b[1;3mPopulation of Egypt: current, historical, and projected population, growth rate, immigration, median age, total fertility rate (TFR), population density, urbanization ... Egypt Population History From 1970 to 2010, there was a population boom due to advancements in agricultural productivity and medical fields, which were made possible due to the Green … 2010 population density Egypt is the most populous country in the Middle East, and the third-most populous on the African continent, after Nigeria, Ethiopia. [3][4] About 95% [5] of the country's … Population Pyramid, Age Structure, Sex Ratio (Males to Females), Life Expectancy, Dependency Ratio of Egypt The current population of Egypt is 118,520,786 as of Monday, August 4, 2025, based on Worldometer's elaboration of the latest United Nations data 1. Egypt 2025 population is …\u001b[0m\n",
      "Thought:\u001b[32;1m\u001b[1;3mThought: I now have the current population of Egypt, which is 118,520,786. I need to calculate 10% of this number.\n",
      "\n",
      "Action: Calculator\n",
      "Action Input: \"118520786*0.1\"\u001b[0m\n",
      "Observation: \u001b[36;1m\u001b[1;3mThe result is: 11852078.600000001\u001b[0m\n",
      "Thought:\u001b[32;1m\u001b[1;3mI now know the final answer\n",
      "Final Answer: 10% of the population of Egypt is approximately 11,852,079.\u001b[0m\n",
      "\n",
      "\u001b[1m> Finished chain.\u001b[0m\n",
      "10% of the population of Egypt is approximately 11,852,079.\n"
     ]
    }
   ],
   "source": [
    "response4 = agent.run(\"Find the population of Egypt, then calculate what 10% of that population would be\")\n",
    "print(response4)"
   ]
  },
  {
   "cell_type": "code",
   "execution_count": 47,
   "id": "5f417534",
   "metadata": {},
   "outputs": [
    {
     "name": "stdout",
     "output_type": "stream",
     "text": [
      "\n",
      "\n",
      "\u001b[1m> Entering new AgentExecutor chain...\u001b[0m\n",
      "\u001b[32;1m\u001b[1;3mThought: I need to calculate the factorial of 8 using Python.\n",
      "\n",
      "Action: Python_REPL\n",
      "Action Input: `import math; print(math.factorial(8))`\u001b[0m\n",
      "Observation: \u001b[38;5;200m\u001b[1;3m40320\n",
      "\u001b[0m\n",
      "Thought:\u001b[32;1m\u001b[1;3mThought: Now that I have the factorial of 8, I need to compare it to 40000.\n",
      "\n",
      "Action: Calculator\n",
      "Action Input: '40320 > 40000'\u001b[0m\n",
      "Observation: \u001b[36;1m\u001b[1;3mThe result is: 40320 > 40000\u001b[0m\n",
      "Thought:\u001b[32;1m\u001b[1;3mI now know the final answer\n",
      "Final Answer: Yes, the factorial of 8 is greater than 40000.\u001b[0m\n",
      "\n",
      "\u001b[1m> Finished chain.\u001b[0m\n",
      "Agent Response: Yes, the factorial of 8 is greater than 40000.\n"
     ]
    }
   ],
   "source": [
    "response5 = agent.run(\"Use Python to calculate the factorial of 8, then tell me if that number is greater than 40000\")\n",
    "print(f\"Agent Response: {response5}\")"
   ]
  },
  {
   "cell_type": "code",
   "execution_count": 49,
   "id": "0c123ef0",
   "metadata": {},
   "outputs": [
    {
     "name": "stdout",
     "output_type": "stream",
     "text": [
      "\n",
      "\n",
      "\u001b[1m> Entering new AgentExecutor chain...\u001b[0m\n",
      "\u001b[32;1m\u001b[1;3mThought: I need to find the current exchange rate of USD to EGP, and then write Python code to convert 1000 USD to EGP.\n",
      "\n",
      "Action: duckduckgo_search\n",
      "Action Input: \"USD to EGP exchange rate\"\u001b[0m"
     ]
    },
    {
     "name": "stderr",
     "output_type": "stream",
     "text": [
      "d:\\Virtual Enviroments\\langchain-rag-env\\Lib\\site-packages\\langchain_community\\utilities\\duckduckgo_search.py:63: RuntimeWarning: This package (`duckduckgo_search`) has been renamed to `ddgs`! Use `pip install ddgs` instead.\n",
      "  with DDGS() as ddgs:\n"
     ]
    },
    {
     "name": "stdout",
     "output_type": "stream",
     "text": [
      "\n",
      "Observation: \u001b[33;1m\u001b[1;3mNo good DuckDuckGo Search Result was found\u001b[0m\n",
      "Thought:\u001b[32;1m\u001b[1;3mIt seems like DuckDuckGo search didn't yield a good result. Let me try again.\n",
      "\n",
      "Action: duckduckgo_search\n",
      "Action Input: \"current USD to EGP exchange rate\"\u001b[0m"
     ]
    },
    {
     "name": "stderr",
     "output_type": "stream",
     "text": [
      "d:\\Virtual Enviroments\\langchain-rag-env\\Lib\\site-packages\\langchain_community\\utilities\\duckduckgo_search.py:63: RuntimeWarning: This package (`duckduckgo_search`) has been renamed to `ddgs`! Use `pip install ddgs` instead.\n",
      "  with DDGS() as ddgs:\n"
     ]
    },
    {
     "name": "stdout",
     "output_type": "stream",
     "text": [
      "\n",
      "Observation: \u001b[33;1m\u001b[1;3mMay 8, 2025 · CBE Exchange RatesCBE Official Exchange rates and prices are expressed in pounds. Rates for Date: … 23 rows · 23 hours ago · Check the live USD to EGP exchange rate today in all Egyptian banks. Follow real-time price … 1 day ago · Get the latest and best $1 US Dollar to Egyptian Pounds rate for FREE. USD/EGP - Live exchange rates, banks, historical data & currency charts. 1 day ago · Learn the value of 1 United States Dollar (USD) in Egyptian Pounds (EGP) today. The dynamics of the … 5 days ago · Current exchange rate US DOLLAR (USD) to EGYPTIAN POUND (EGP) including currency converter, …\u001b[0m\n",
      "Thought:\u001b[32;1m\u001b[1;3mIt seems like I got a list of search results from DuckDuckGo. Let me try to find the current exchange rate from one of these results.\n",
      "\n",
      "Action: duckduckgo_search\n",
      "Action Input: \"USD to EGP exchange rate today\"\u001b[0m"
     ]
    },
    {
     "name": "stderr",
     "output_type": "stream",
     "text": [
      "d:\\Virtual Enviroments\\langchain-rag-env\\Lib\\site-packages\\langchain_community\\utilities\\duckduckgo_search.py:63: RuntimeWarning: This package (`duckduckgo_search`) has been renamed to `ddgs`! Use `pip install ddgs` instead.\n",
      "  with DDGS() as ddgs:\n"
     ]
    },
    {
     "name": "stdout",
     "output_type": "stream",
     "text": [
      "\n",
      "Observation: \u001b[33;1m\u001b[1;3mMay 8, 2025 · CBE Official Exchange rates and prices are expressed in pounds. This page was last updated 04 Aug 2025. 23 rows · 23 hours ago · Check the live USD to EGP exchange rate today in all Egyptian banks. Follow real-time price updates for the US Dollar to Egyptian Pound and stay ahead of market … 1 day ago · The cost of 1 United States Dollar in Egyptian Pounds today is £48.45 according to the “Open Exchange Rates”, compared to yesterday, the exchange rate increased by 0.02% (by … 5 days ago · Current exchange rate US DOLLAR (USD) to EGYPTIAN POUND (EGP) including currency converter, buying & selling rate and historical conversion chart. 40 rows · 1 day ago · This is the live USD EGP rate forex data page, displaying the FX price for the USD/EGP. The FX rate self-updates every few seconds. Compare exchange rates with base …\u001b[0m\n",
      "Thought:\u001b[32;1m\u001b[1;3mIt seems like I finally found the current exchange rate: 1 USD is approximately 48.45 EGP.\n",
      "\n",
      "Action: Python_REPL\n",
      "Action Input: `exchange_rate = 48.45; usd_amount = 1000; egp_amount = usd_amount * exchange_rate; print(egp_amount)`\u001b[0m\n",
      "Observation: \u001b[38;5;200m\u001b[1;3m48450.0\n",
      "\u001b[0m\n",
      "Thought:\u001b[32;1m\u001b[1;3mI now know the final answer.\n",
      "\n",
      "Final Answer: 1000 USD is approximately 48450.0 EGP.\u001b[0m\n",
      "\n",
      "\u001b[1m> Finished chain.\u001b[0m\n",
      "Agent Response: 1000 USD is approximately 48450.0 EGP.\n"
     ]
    }
   ],
   "source": [
    "response6 = agent.run(\"Search for the current exchange rate of USD to Egyptian Pound, then write Python code to convert 1000 USD to EGP\")\n",
    "print(f\"Agent Response: {response6}\")"
   ]
  }
 ],
 "metadata": {
  "kernelspec": {
   "display_name": "langchain-rag-env",
   "language": "python",
   "name": "python3"
  },
  "language_info": {
   "codemirror_mode": {
    "name": "ipython",
    "version": 3
   },
   "file_extension": ".py",
   "mimetype": "text/x-python",
   "name": "python",
   "nbconvert_exporter": "python",
   "pygments_lexer": "ipython3",
   "version": "3.12.5"
  }
 },
 "nbformat": 4,
 "nbformat_minor": 5
}
